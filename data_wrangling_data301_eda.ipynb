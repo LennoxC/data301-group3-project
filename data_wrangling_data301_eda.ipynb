{
 "cells": [
  {
   "metadata": {},
   "cell_type": "markdown",
   "source": [
    "# DATA301 Group 3 EDA - Data Wrangling\n",
    "\n",
    "Usage: you can run this notebook yourself for reproducibility. This is how the directory is organised:\n",
    "\n",
    "```\n",
    "~\n",
    "  /data\n",
    "      - employment_df.csv # this is the employment dataset from stats nz\n",
    "      - police_df.csv # this is the police dataset from nz police\n",
    "  /output\n",
    "      # output dataset will be in this folder\n",
    "  data_wrangling_data301_eda.ipynb\n",
    "```\n",
    "\n",
    "The output of this notebook is a .csv file: `/output/police_dataset_clean.csv`\n",
    "\n",
    "### The police dataset\n",
    "\n",
    "The police dataset contains detailed anonymized information about crime victimisations from 2014 to 2025.\n",
    "\n",
    "This can be accessed here: https://public.tableau.com/app/profile/policedata.nz/viz/VictimisationsPoliceStations/Summary\n",
    "\n",
    "A full download of the dataset can be attained by navigating to the 'Districts' tab, and clicking the download icon in the top right corner. Select 'Data', then in the pop-up window, on the left hand tab, select 'Full Data'. Then choose 'Show Fields' on the right hand side and select all fields for the download. Download the dataset using the download button.\n",
    "\n",
    "To run this notebook, create a directory named `data` in the same directory as this notebook. Place the police dataset in this folder, and rename to police_df.csv. If you are unable to modify the name of the file, you can provide a file name in the first python cell.\n",
    "\n",
    "### The employment dataset\n",
    "\n",
    "The employment dataset comes from the Stats NZ Household Labour Force Survey. This is a quarterly survey to produce official estimates of the numbers of employed and unemployed people.\n",
    "\n",
    "This can be accessed here: https://www.stats.govt.nz/assets/Reports/Household-labour-force-survey-population-rebase-from-2023-estimated-resident-population/Download-data/household-labour-force-survey-population-rebase-September-2018-March-2025-quarters.zip\n",
    "\n",
    "This will download as a zip folder, which should only contain the household labour force survey. Extract the zip folder, and copy the .csv file into the `~/data` directory. Rename this file as `employment_df.csv`.\n",
    "\n",
    "### Python Environment\n",
    "All python requirements are included in the `requirements.txt` folder.\n"
   ],
   "id": "99af5df4cff83136"
  },
  {
   "metadata": {
    "ExecuteTime": {
     "end_time": "2025-08-25T05:47:20.870513Z",
     "start_time": "2025-08-25T05:47:20.864665Z"
    }
   },
   "cell_type": "code",
   "source": [
    "import pandas as pd\n",
    "import numpy as np\n",
    "import os\n",
    "import matplotlib.pyplot as plt"
   ],
   "id": "6357e62f1a02a30c",
   "outputs": [],
   "execution_count": 46
  },
  {
   "metadata": {
    "ExecuteTime": {
     "end_time": "2025-08-25T05:47:20.885711Z",
     "start_time": "2025-08-25T05:47:20.881832Z"
    }
   },
   "cell_type": "code",
   "source": [
    "# DATASET FILE NAMES\n",
    "# change these if you want to read different files\n",
    "EMPLOYMENT_FILENAME = \"employment_df.csv\"\n",
    "POLICE_FILENAME     = \"police_df.csv\"\n",
    "\n",
    "DATA_DIRECTORY_NAME = \"data\""
   ],
   "id": "feb13fe2be7ab75c",
   "outputs": [],
   "execution_count": 47
  },
  {
   "metadata": {
    "ExecuteTime": {
     "end_time": "2025-08-25T05:47:20.932416Z",
     "start_time": "2025-08-25T05:47:20.925502Z"
    }
   },
   "cell_type": "code",
   "source": [
    "os.makedirs(DATA_DIRECTORY_NAME, exist_ok=True)\n",
    "\n",
    "police_path = os.path.join(os.getcwd(), DATA_DIRECTORY_NAME, POLICE_FILENAME)\n",
    "employment_path = os.path.join(os.getcwd(), DATA_DIRECTORY_NAME, EMPLOYMENT_FILENAME)"
   ],
   "id": "b9a68345e03c08ea",
   "outputs": [],
   "execution_count": 48
  },
  {
   "metadata": {
    "ExecuteTime": {
     "end_time": "2025-08-25T05:47:38.337492Z",
     "start_time": "2025-08-25T05:47:20.968401Z"
    }
   },
   "cell_type": "code",
   "source": [
    "police_df_raw = pd.read_csv(police_path)\n",
    "employment_df_raw = pd.read_csv(employment_path)"
   ],
   "id": "9574422da0066b3c",
   "outputs": [
    {
     "name": "stderr",
     "output_type": "stream",
     "text": [
      "C:\\Users\\lenno\\AppData\\Local\\Temp\\ipykernel_26488\\451254543.py:1: DtypeWarning: Columns (14) have mixed types. Specify dtype option on import or set low_memory=False.\n",
      "  police_df_raw = pd.read_csv(police_path)\n",
      "C:\\Users\\lenno\\AppData\\Local\\Temp\\ipykernel_26488\\451254543.py:2: DtypeWarning: Columns (9,10,11,12,13,14,15,16,17,18,19,20,21,22,23,24,25,26,27,28,29,30,31,32,33,34,35,36,37,38,39,40,41,42,43,44,45,46,47,48,49,50,51,52,53,54,55,56,57) have mixed types. Specify dtype option on import or set low_memory=False.\n",
      "  employment_df_raw = pd.read_csv(employment_path)\n"
     ]
    }
   ],
   "execution_count": 49
  },
  {
   "metadata": {
    "ExecuteTime": {
     "end_time": "2025-08-25T05:47:38.377564Z",
     "start_time": "2025-08-25T05:47:38.350417Z"
    }
   },
   "cell_type": "code",
   "source": "police_df_raw.head()",
   "id": "5e9e5ec9e4f9345a",
   "outputs": [
    {
     "data": {
      "text/plain": [
       "  Anzsoc Division         Police Area/TA Police District/TA Police Station/TA  \\\n",
       "0        Burglary  Auckland Central Area      Auckland City  Auckland Central   \n",
       "1        Burglary     Auckland East Area      Auckland City        Glen Innes   \n",
       "2        Burglary     Auckland East Area      Auckland City         Newmarket   \n",
       "3        Burglary     Auckland West Area      Auckland City          Ponsonby   \n",
       "4        Burglary  Auckland Central Area      Auckland City  Auckland Central   \n",
       "\n",
       "   Location Type Description Location Type Division Person/Organisation  \\\n",
       "0  Community Location N.E.C.     Community Location        Organisation   \n",
       "1  Community Location N.E.C.     Community Location        Organisation   \n",
       "2  Community Location N.E.C.     Community Location        Organisation   \n",
       "3  Community Location N.E.C.     Community Location        Organisation   \n",
       "4               Public Place     Community Location        Organisation   \n",
       "\n",
       "     Weapons Used Year Month            Police Area  ...       Ethnicity  \\\n",
       "0  Not Applicable   5/1/2025  Auckland Central Area  ...  Not Applicable   \n",
       "1  Not Applicable   5/1/2025     Auckland East Area  ...  Not Applicable   \n",
       "2  Not Applicable   5/1/2025     Auckland East Area  ...  Not Applicable   \n",
       "3  Not Applicable   5/1/2025     Auckland West Area  ...  Not Applicable   \n",
       "4  Not Applicable   5/1/2025  Auckland Central Area  ...  Not Applicable   \n",
       "\n",
       "             Location              Location Type  Number of Records  \\\n",
       "0  Community Location  Community Location N.E.C.                  1   \n",
       "1  Community Location  Community Location N.E.C.                  1   \n",
       "2  Community Location  Community Location N.E.C.                  1   \n",
       "3  Community Location  Community Location N.E.C.                  1   \n",
       "4  Community Location               Public Place                  1   \n",
       "\n",
       "  Police   Boundary Previous Period Selected Period                   Table 1  \\\n",
       "0     Auckland City               0               1  1 Age Ethnicity Boundary   \n",
       "1     Auckland City               0               1  1 Age Ethnicity Boundary   \n",
       "2     Auckland City               0               1  1 Age Ethnicity Boundary   \n",
       "3     Auckland City               0               1  1 Age Ethnicity Boundary   \n",
       "4     Auckland City               0               1  1 Age Ethnicity Boundary   \n",
       "\n",
       "  Variance          Weapon  \n",
       "0        1  Not Applicable  \n",
       "1        1  Not Applicable  \n",
       "2        1  Not Applicable  \n",
       "3        1  Not Applicable  \n",
       "4        1  Not Applicable  \n",
       "\n",
       "[5 rows x 31 columns]"
      ],
      "text/html": [
       "<div>\n",
       "<style scoped>\n",
       "    .dataframe tbody tr th:only-of-type {\n",
       "        vertical-align: middle;\n",
       "    }\n",
       "\n",
       "    .dataframe tbody tr th {\n",
       "        vertical-align: top;\n",
       "    }\n",
       "\n",
       "    .dataframe thead th {\n",
       "        text-align: right;\n",
       "    }\n",
       "</style>\n",
       "<table border=\"1\" class=\"dataframe\">\n",
       "  <thead>\n",
       "    <tr style=\"text-align: right;\">\n",
       "      <th></th>\n",
       "      <th>Anzsoc Division</th>\n",
       "      <th>Police Area/TA</th>\n",
       "      <th>Police District/TA</th>\n",
       "      <th>Police Station/TA</th>\n",
       "      <th>Location Type Description</th>\n",
       "      <th>Location Type Division</th>\n",
       "      <th>Person/Organisation</th>\n",
       "      <th>Weapons Used</th>\n",
       "      <th>Year Month</th>\n",
       "      <th>Police Area</th>\n",
       "      <th>...</th>\n",
       "      <th>Ethnicity</th>\n",
       "      <th>Location</th>\n",
       "      <th>Location Type</th>\n",
       "      <th>Number of Records</th>\n",
       "      <th>Police   Boundary</th>\n",
       "      <th>Previous Period</th>\n",
       "      <th>Selected Period</th>\n",
       "      <th>Table 1</th>\n",
       "      <th>Variance</th>\n",
       "      <th>Weapon</th>\n",
       "    </tr>\n",
       "  </thead>\n",
       "  <tbody>\n",
       "    <tr>\n",
       "      <th>0</th>\n",
       "      <td>Burglary</td>\n",
       "      <td>Auckland Central Area</td>\n",
       "      <td>Auckland City</td>\n",
       "      <td>Auckland Central</td>\n",
       "      <td>Community Location N.E.C.</td>\n",
       "      <td>Community Location</td>\n",
       "      <td>Organisation</td>\n",
       "      <td>Not Applicable</td>\n",
       "      <td>5/1/2025</td>\n",
       "      <td>Auckland Central Area</td>\n",
       "      <td>...</td>\n",
       "      <td>Not Applicable</td>\n",
       "      <td>Community Location</td>\n",
       "      <td>Community Location N.E.C.</td>\n",
       "      <td>1</td>\n",
       "      <td>Auckland City</td>\n",
       "      <td>0</td>\n",
       "      <td>1</td>\n",
       "      <td>1 Age Ethnicity Boundary</td>\n",
       "      <td>1</td>\n",
       "      <td>Not Applicable</td>\n",
       "    </tr>\n",
       "    <tr>\n",
       "      <th>1</th>\n",
       "      <td>Burglary</td>\n",
       "      <td>Auckland East Area</td>\n",
       "      <td>Auckland City</td>\n",
       "      <td>Glen Innes</td>\n",
       "      <td>Community Location N.E.C.</td>\n",
       "      <td>Community Location</td>\n",
       "      <td>Organisation</td>\n",
       "      <td>Not Applicable</td>\n",
       "      <td>5/1/2025</td>\n",
       "      <td>Auckland East Area</td>\n",
       "      <td>...</td>\n",
       "      <td>Not Applicable</td>\n",
       "      <td>Community Location</td>\n",
       "      <td>Community Location N.E.C.</td>\n",
       "      <td>1</td>\n",
       "      <td>Auckland City</td>\n",
       "      <td>0</td>\n",
       "      <td>1</td>\n",
       "      <td>1 Age Ethnicity Boundary</td>\n",
       "      <td>1</td>\n",
       "      <td>Not Applicable</td>\n",
       "    </tr>\n",
       "    <tr>\n",
       "      <th>2</th>\n",
       "      <td>Burglary</td>\n",
       "      <td>Auckland East Area</td>\n",
       "      <td>Auckland City</td>\n",
       "      <td>Newmarket</td>\n",
       "      <td>Community Location N.E.C.</td>\n",
       "      <td>Community Location</td>\n",
       "      <td>Organisation</td>\n",
       "      <td>Not Applicable</td>\n",
       "      <td>5/1/2025</td>\n",
       "      <td>Auckland East Area</td>\n",
       "      <td>...</td>\n",
       "      <td>Not Applicable</td>\n",
       "      <td>Community Location</td>\n",
       "      <td>Community Location N.E.C.</td>\n",
       "      <td>1</td>\n",
       "      <td>Auckland City</td>\n",
       "      <td>0</td>\n",
       "      <td>1</td>\n",
       "      <td>1 Age Ethnicity Boundary</td>\n",
       "      <td>1</td>\n",
       "      <td>Not Applicable</td>\n",
       "    </tr>\n",
       "    <tr>\n",
       "      <th>3</th>\n",
       "      <td>Burglary</td>\n",
       "      <td>Auckland West Area</td>\n",
       "      <td>Auckland City</td>\n",
       "      <td>Ponsonby</td>\n",
       "      <td>Community Location N.E.C.</td>\n",
       "      <td>Community Location</td>\n",
       "      <td>Organisation</td>\n",
       "      <td>Not Applicable</td>\n",
       "      <td>5/1/2025</td>\n",
       "      <td>Auckland West Area</td>\n",
       "      <td>...</td>\n",
       "      <td>Not Applicable</td>\n",
       "      <td>Community Location</td>\n",
       "      <td>Community Location N.E.C.</td>\n",
       "      <td>1</td>\n",
       "      <td>Auckland City</td>\n",
       "      <td>0</td>\n",
       "      <td>1</td>\n",
       "      <td>1 Age Ethnicity Boundary</td>\n",
       "      <td>1</td>\n",
       "      <td>Not Applicable</td>\n",
       "    </tr>\n",
       "    <tr>\n",
       "      <th>4</th>\n",
       "      <td>Burglary</td>\n",
       "      <td>Auckland Central Area</td>\n",
       "      <td>Auckland City</td>\n",
       "      <td>Auckland Central</td>\n",
       "      <td>Public Place</td>\n",
       "      <td>Community Location</td>\n",
       "      <td>Organisation</td>\n",
       "      <td>Not Applicable</td>\n",
       "      <td>5/1/2025</td>\n",
       "      <td>Auckland Central Area</td>\n",
       "      <td>...</td>\n",
       "      <td>Not Applicable</td>\n",
       "      <td>Community Location</td>\n",
       "      <td>Public Place</td>\n",
       "      <td>1</td>\n",
       "      <td>Auckland City</td>\n",
       "      <td>0</td>\n",
       "      <td>1</td>\n",
       "      <td>1 Age Ethnicity Boundary</td>\n",
       "      <td>1</td>\n",
       "      <td>Not Applicable</td>\n",
       "    </tr>\n",
       "  </tbody>\n",
       "</table>\n",
       "<p>5 rows × 31 columns</p>\n",
       "</div>"
      ]
     },
     "execution_count": 50,
     "metadata": {},
     "output_type": "execute_result"
    }
   ],
   "execution_count": 50
  },
  {
   "metadata": {
    "ExecuteTime": {
     "end_time": "2025-08-25T05:47:38.508813Z",
     "start_time": "2025-08-25T05:47:38.482166Z"
    }
   },
   "cell_type": "code",
   "source": "employment_df_raw.head()",
   "id": "a0ed65bf6d57882b",
   "outputs": [
    {
     "data": {
      "text/plain": [
       "    STATUS  SER_NBR Series_reference   Period  Data_value   UNITS  MAGNTUDE  \\\n",
       "0  REVISED     9269       HLFQ.S1A1S  1986.03       950.0  Number         3   \n",
       "1  REVISED     9269       HLFQ.S1A1S  1986.06       948.0  Number         3   \n",
       "2  REVISED     9269       HLFQ.S1A1S  1986.09       943.0  Number         3   \n",
       "3  REVISED     9269       HLFQ.S1A1S  1986.12       932.0  Number         3   \n",
       "4  REVISED     9269       HLFQ.S1A1S  1987.03       942.0  Number         3   \n",
       "\n",
       "                               Subject  \\\n",
       "0  Household Labour Force Survey - HLF   \n",
       "1  Household Labour Force Survey - HLF   \n",
       "2  Household Labour Force Survey - HLF   \n",
       "3  Household Labour Force Survey - HLF   \n",
       "4  Household Labour Force Survey - HLF   \n",
       "\n",
       "                                             Group Age Group 3 brackets  ...  \\\n",
       "0  Labour Force Status by Sex: Seasonally Adjusted                  NaN  ...   \n",
       "1  Labour Force Status by Sex: Seasonally Adjusted                  NaN  ...   \n",
       "2  Labour Force Status by Sex: Seasonally Adjusted                  NaN  ...   \n",
       "3  Labour Force Status by Sex: Seasonally Adjusted                  NaN  ...   \n",
       "4  Labour Force Status by Sex: Seasonally Adjusted                  NaN  ...   \n",
       "\n",
       "  Seasonally Adjusted/Trend Series Second Job   Sex  \\\n",
       "0                              NaN        NaN  Male   \n",
       "1                              NaN        NaN  Male   \n",
       "2                              NaN        NaN  Male   \n",
       "3                              NaN        NaN  Male   \n",
       "4                              NaN        NaN  Male   \n",
       "\n",
       "  Total Number of Actual Hours Worked Each Week  \\\n",
       "0                                           NaN   \n",
       "1                                           NaN   \n",
       "2                                           NaN   \n",
       "3                                           NaN   \n",
       "4                                           NaN   \n",
       "\n",
       "  Total Number of Usual Hours Worked Each Week Type of employment agreement  \\\n",
       "0                                          NaN                          NaN   \n",
       "1                                          NaN                          NaN   \n",
       "2                                          NaN                          NaN   \n",
       "3                                          NaN                          NaN   \n",
       "4                                          NaN                          NaN   \n",
       "\n",
       "  Underemployment Underutilisation Union membership Youth age groups  \n",
       "0             NaN              NaN              NaN              NaN  \n",
       "1             NaN              NaN              NaN              NaN  \n",
       "2             NaN              NaN              NaN              NaN  \n",
       "3             NaN              NaN              NaN              NaN  \n",
       "4             NaN              NaN              NaN              NaN  \n",
       "\n",
       "[5 rows x 58 columns]"
      ],
      "text/html": [
       "<div>\n",
       "<style scoped>\n",
       "    .dataframe tbody tr th:only-of-type {\n",
       "        vertical-align: middle;\n",
       "    }\n",
       "\n",
       "    .dataframe tbody tr th {\n",
       "        vertical-align: top;\n",
       "    }\n",
       "\n",
       "    .dataframe thead th {\n",
       "        text-align: right;\n",
       "    }\n",
       "</style>\n",
       "<table border=\"1\" class=\"dataframe\">\n",
       "  <thead>\n",
       "    <tr style=\"text-align: right;\">\n",
       "      <th></th>\n",
       "      <th>STATUS</th>\n",
       "      <th>SER_NBR</th>\n",
       "      <th>Series_reference</th>\n",
       "      <th>Period</th>\n",
       "      <th>Data_value</th>\n",
       "      <th>UNITS</th>\n",
       "      <th>MAGNTUDE</th>\n",
       "      <th>Subject</th>\n",
       "      <th>Group</th>\n",
       "      <th>Age Group 3 brackets</th>\n",
       "      <th>...</th>\n",
       "      <th>Seasonally Adjusted/Trend Series</th>\n",
       "      <th>Second Job</th>\n",
       "      <th>Sex</th>\n",
       "      <th>Total Number of Actual Hours Worked Each Week</th>\n",
       "      <th>Total Number of Usual Hours Worked Each Week</th>\n",
       "      <th>Type of employment agreement</th>\n",
       "      <th>Underemployment</th>\n",
       "      <th>Underutilisation</th>\n",
       "      <th>Union membership</th>\n",
       "      <th>Youth age groups</th>\n",
       "    </tr>\n",
       "  </thead>\n",
       "  <tbody>\n",
       "    <tr>\n",
       "      <th>0</th>\n",
       "      <td>REVISED</td>\n",
       "      <td>9269</td>\n",
       "      <td>HLFQ.S1A1S</td>\n",
       "      <td>1986.03</td>\n",
       "      <td>950.0</td>\n",
       "      <td>Number</td>\n",
       "      <td>3</td>\n",
       "      <td>Household Labour Force Survey - HLF</td>\n",
       "      <td>Labour Force Status by Sex: Seasonally Adjusted</td>\n",
       "      <td>NaN</td>\n",
       "      <td>...</td>\n",
       "      <td>NaN</td>\n",
       "      <td>NaN</td>\n",
       "      <td>Male</td>\n",
       "      <td>NaN</td>\n",
       "      <td>NaN</td>\n",
       "      <td>NaN</td>\n",
       "      <td>NaN</td>\n",
       "      <td>NaN</td>\n",
       "      <td>NaN</td>\n",
       "      <td>NaN</td>\n",
       "    </tr>\n",
       "    <tr>\n",
       "      <th>1</th>\n",
       "      <td>REVISED</td>\n",
       "      <td>9269</td>\n",
       "      <td>HLFQ.S1A1S</td>\n",
       "      <td>1986.06</td>\n",
       "      <td>948.0</td>\n",
       "      <td>Number</td>\n",
       "      <td>3</td>\n",
       "      <td>Household Labour Force Survey - HLF</td>\n",
       "      <td>Labour Force Status by Sex: Seasonally Adjusted</td>\n",
       "      <td>NaN</td>\n",
       "      <td>...</td>\n",
       "      <td>NaN</td>\n",
       "      <td>NaN</td>\n",
       "      <td>Male</td>\n",
       "      <td>NaN</td>\n",
       "      <td>NaN</td>\n",
       "      <td>NaN</td>\n",
       "      <td>NaN</td>\n",
       "      <td>NaN</td>\n",
       "      <td>NaN</td>\n",
       "      <td>NaN</td>\n",
       "    </tr>\n",
       "    <tr>\n",
       "      <th>2</th>\n",
       "      <td>REVISED</td>\n",
       "      <td>9269</td>\n",
       "      <td>HLFQ.S1A1S</td>\n",
       "      <td>1986.09</td>\n",
       "      <td>943.0</td>\n",
       "      <td>Number</td>\n",
       "      <td>3</td>\n",
       "      <td>Household Labour Force Survey - HLF</td>\n",
       "      <td>Labour Force Status by Sex: Seasonally Adjusted</td>\n",
       "      <td>NaN</td>\n",
       "      <td>...</td>\n",
       "      <td>NaN</td>\n",
       "      <td>NaN</td>\n",
       "      <td>Male</td>\n",
       "      <td>NaN</td>\n",
       "      <td>NaN</td>\n",
       "      <td>NaN</td>\n",
       "      <td>NaN</td>\n",
       "      <td>NaN</td>\n",
       "      <td>NaN</td>\n",
       "      <td>NaN</td>\n",
       "    </tr>\n",
       "    <tr>\n",
       "      <th>3</th>\n",
       "      <td>REVISED</td>\n",
       "      <td>9269</td>\n",
       "      <td>HLFQ.S1A1S</td>\n",
       "      <td>1986.12</td>\n",
       "      <td>932.0</td>\n",
       "      <td>Number</td>\n",
       "      <td>3</td>\n",
       "      <td>Household Labour Force Survey - HLF</td>\n",
       "      <td>Labour Force Status by Sex: Seasonally Adjusted</td>\n",
       "      <td>NaN</td>\n",
       "      <td>...</td>\n",
       "      <td>NaN</td>\n",
       "      <td>NaN</td>\n",
       "      <td>Male</td>\n",
       "      <td>NaN</td>\n",
       "      <td>NaN</td>\n",
       "      <td>NaN</td>\n",
       "      <td>NaN</td>\n",
       "      <td>NaN</td>\n",
       "      <td>NaN</td>\n",
       "      <td>NaN</td>\n",
       "    </tr>\n",
       "    <tr>\n",
       "      <th>4</th>\n",
       "      <td>REVISED</td>\n",
       "      <td>9269</td>\n",
       "      <td>HLFQ.S1A1S</td>\n",
       "      <td>1987.03</td>\n",
       "      <td>942.0</td>\n",
       "      <td>Number</td>\n",
       "      <td>3</td>\n",
       "      <td>Household Labour Force Survey - HLF</td>\n",
       "      <td>Labour Force Status by Sex: Seasonally Adjusted</td>\n",
       "      <td>NaN</td>\n",
       "      <td>...</td>\n",
       "      <td>NaN</td>\n",
       "      <td>NaN</td>\n",
       "      <td>Male</td>\n",
       "      <td>NaN</td>\n",
       "      <td>NaN</td>\n",
       "      <td>NaN</td>\n",
       "      <td>NaN</td>\n",
       "      <td>NaN</td>\n",
       "      <td>NaN</td>\n",
       "      <td>NaN</td>\n",
       "    </tr>\n",
       "  </tbody>\n",
       "</table>\n",
       "<p>5 rows × 58 columns</p>\n",
       "</div>"
      ]
     },
     "execution_count": 51,
     "metadata": {},
     "output_type": "execute_result"
    }
   ],
   "execution_count": 51
  },
  {
   "metadata": {},
   "cell_type": "markdown",
   "source": "To give flexibility in the data analysis, unemployment data can be provided at both the regional and nation-wide level. Crime victimisations don't report information about the criminal, rather information about the crime and those affected. So information like sex, age can be aggregated in the employment dataset.",
   "id": "54b19730d0654024"
  },
  {
   "metadata": {
    "ExecuteTime": {
     "end_time": "2025-08-25T05:47:38.949298Z",
     "start_time": "2025-08-25T05:47:38.643006Z"
    }
   },
   "cell_type": "code",
   "source": [
    "employment_df_filtered = employment_df_raw[\n",
    "    (employment_df_raw['Persons Employed, Unemployed, Not in Labour Force (for current quarter)'] == 'Employment Rate')\n",
    "    & (employment_df_raw['Sex'] == 'Total Both Sexes')\n",
    "    & (employment_df_raw['Group'] == 'Labour Force Status by Sex by Regional Council')\n",
    "]\n",
    "\n",
    "employment_df_filtered = employment_df_filtered[['Period', 'Data_value', 'Regional Council']]"
   ],
   "id": "80500bf785f04a82",
   "outputs": [],
   "execution_count": 52
  },
  {
   "metadata": {},
   "cell_type": "markdown",
   "source": "This gives a much smaller dataset with only relevant information",
   "id": "362360a8a6ac437e"
  },
  {
   "metadata": {
    "ExecuteTime": {
     "end_time": "2025-08-25T05:47:39.014876Z",
     "start_time": "2025-08-25T05:47:39.003377Z"
    }
   },
   "cell_type": "code",
   "source": "employment_df_filtered.count()",
   "id": "7dadbbbf1213d654",
   "outputs": [
    {
     "data": {
      "text/plain": [
       "Period              4887\n",
       "Data_value          4665\n",
       "Regional Council    4887\n",
       "dtype: int64"
      ]
     },
     "execution_count": 53,
     "metadata": {},
     "output_type": "execute_result"
    }
   ],
   "execution_count": 53
  },
  {
   "metadata": {},
   "cell_type": "markdown",
   "source": "### Ensuring the columns are in usable formats",
   "id": "b3c88a2661bf3bce"
  },
  {
   "metadata": {},
   "cell_type": "markdown",
   "source": "Now the columns need to be converted to the correct formats. To join these dataframes together on a timestamp, each will need to be in a consistent format.",
   "id": "f36b2f9ca419f6f4"
  },
  {
   "metadata": {
    "ExecuteTime": {
     "end_time": "2025-08-25T05:47:39.233866Z",
     "start_time": "2025-08-25T05:47:39.212974Z"
    }
   },
   "cell_type": "code",
   "source": [
    "employment_df_filtered['year'] = employment_df_filtered['Period'].astype(int)\n",
    "employment_df_filtered[\"quarter\"] = ((((employment_df_filtered[\"Period\"] % 1) * 100) / 3) + 1).astype(int)\n",
    "\n",
    "employment_df_filtered[\"quarter_start\"] = pd.PeriodIndex(\n",
    "    year=employment_df_filtered[\"year\"],\n",
    "    quarter=employment_df_filtered[\"quarter\"],\n",
    "    freq=\"Q\").start_time"
   ],
   "id": "e3fc5d1df66a0660",
   "outputs": [
    {
     "name": "stderr",
     "output_type": "stream",
     "text": [
      "C:\\Users\\lenno\\AppData\\Local\\Temp\\ipykernel_26488\\557977311.py:4: FutureWarning: Constructing PeriodIndex from fields is deprecated. Use PeriodIndex.from_fields instead.\n",
      "  employment_df_filtered[\"quarter_start\"] = pd.PeriodIndex(\n"
     ]
    }
   ],
   "execution_count": 54
  },
  {
   "metadata": {
    "ExecuteTime": {
     "end_time": "2025-08-25T05:47:41.004428Z",
     "start_time": "2025-08-25T05:47:39.369164Z"
    }
   },
   "cell_type": "code",
   "source": [
    "police_df_raw[\"Year Month\"] = pd.to_datetime(police_df_raw[\"Year Month\"], format=\"%m/%d/%Y\")\n",
    "\n",
    "police_df_raw[\"year\"] = police_df_raw[\"Year Month\"].dt.year\n",
    "police_df_raw[\"quarter\"] = police_df_raw[\"Year Month\"].dt.quarter\n",
    "police_df_raw[\"quarter_start\"] = pd.PeriodIndex(\n",
    "    year=police_df_raw[\"year\"],\n",
    "    quarter=police_df_raw[\"quarter\"],\n",
    "    freq=\"Q\").start_time"
   ],
   "id": "8ba5c6694d4b7abd",
   "outputs": [
    {
     "name": "stderr",
     "output_type": "stream",
     "text": [
      "C:\\Users\\lenno\\AppData\\Local\\Temp\\ipykernel_26488\\3644711353.py:5: FutureWarning: Constructing PeriodIndex from fields is deprecated. Use PeriodIndex.from_fields instead.\n",
      "  police_df_raw[\"quarter_start\"] = pd.PeriodIndex(\n"
     ]
    }
   ],
   "execution_count": 55
  },
  {
   "metadata": {
    "ExecuteTime": {
     "end_time": "2025-08-25T05:47:41.018211Z",
     "start_time": "2025-08-25T05:47:41.004428Z"
    }
   },
   "cell_type": "code",
   "source": "employment_df_filtered[1:10].quarter_start",
   "id": "d4f38828977d33ee",
   "outputs": [
    {
     "data": {
      "text/plain": [
       "128094   1986-04-01\n",
       "128095   1986-07-01\n",
       "128096   1986-10-01\n",
       "128097   1987-01-01\n",
       "128098   1987-04-01\n",
       "128099   1987-07-01\n",
       "128100   1987-10-01\n",
       "128101   1988-01-01\n",
       "128102   1988-04-01\n",
       "Name: quarter_start, dtype: datetime64[ns]"
      ]
     },
     "execution_count": 56,
     "metadata": {},
     "output_type": "execute_result"
    }
   ],
   "execution_count": 56
  },
  {
   "metadata": {
    "ExecuteTime": {
     "end_time": "2025-08-25T05:47:41.080732Z",
     "start_time": "2025-08-25T05:47:41.072374Z"
    }
   },
   "cell_type": "code",
   "source": "police_df_raw[1:10].quarter_start",
   "id": "68f40ec4a46e89b9",
   "outputs": [
    {
     "data": {
      "text/plain": [
       "1   2025-04-01\n",
       "2   2025-04-01\n",
       "3   2025-04-01\n",
       "4   2025-04-01\n",
       "5   2025-04-01\n",
       "6   2025-04-01\n",
       "7   2025-04-01\n",
       "8   2025-04-01\n",
       "9   2025-04-01\n",
       "Name: quarter_start, dtype: datetime64[ns]"
      ]
     },
     "execution_count": 57,
     "metadata": {},
     "output_type": "execute_result"
    }
   ],
   "execution_count": 57
  },
  {
   "metadata": {},
   "cell_type": "markdown",
   "source": [
    "#### Convert the regions so they can be joined onto each other\n",
    "The police dataset uses a \"police district\" for regional aggregations while the HLFS uses regional council. These will need to be converted to a common format to be used easily."
   ],
   "id": "97ed2de04dc78321"
  },
  {
   "metadata": {
    "ExecuteTime": {
     "end_time": "2025-08-25T05:47:41.307499Z",
     "start_time": "2025-08-25T05:47:41.300765Z"
    }
   },
   "cell_type": "code",
   "source": "employment_df_filtered[\"Regional Council\"].unique()",
   "id": "57385e097920df51",
   "outputs": [
    {
     "data": {
      "text/plain": [
       "array(['Northland', 'Auckland', 'Waikato', 'Bay of Plenty',\n",
       "       \"Gisborne / Hawke's Bay\", 'Taranaki',\n",
       "       'Taranaki / Manawatu - Whanganui', 'Manawatu - Whanganui',\n",
       "       'Wellington', 'Tasman / Nelson / Marlborough / West Coast',\n",
       "       'Canterbury', 'Otago / Southland', 'Otago', 'Southland',\n",
       "       'North Island', 'South Island', 'Total All Regional Councils'],\n",
       "      dtype=object)"
      ]
     },
     "execution_count": 59,
     "metadata": {},
     "output_type": "execute_result"
    }
   ],
   "execution_count": 59
  },
  {
   "metadata": {
    "ExecuteTime": {
     "end_time": "2025-08-25T05:52:17.625847Z",
     "start_time": "2025-08-25T05:52:17.553440Z"
    }
   },
   "cell_type": "code",
   "source": "police_df_raw[\"Police District\"].unique()",
   "id": "ca7b84926cb0f5fe",
   "outputs": [
    {
     "data": {
      "text/plain": [
       "array(['Auckland City', 'Bay Of Plenty', 'Canterbury', 'Central',\n",
       "       'Eastern', 'Northland', 'Southern', 'Waikato', 'Waitemata',\n",
       "       'Wellington', 'Counties/Manukau', 'Tasman', 'Not Specified'],\n",
       "      dtype=object)"
      ]
     },
     "execution_count": 61,
     "metadata": {},
     "output_type": "execute_result"
    }
   ],
   "execution_count": 61
  },
  {
   "metadata": {},
   "cell_type": "markdown",
   "source": "Fortunately, the boundaries line up well.",
   "id": "3619747d79641e3c"
  },
  {
   "metadata": {
    "ExecuteTime": {
     "end_time": "2025-08-25T05:47:41.429235Z",
     "start_time": "2025-08-25T05:47:41.423033Z"
    }
   },
   "cell_type": "code",
   "source": [
    "employment_df_filtered = employment_df_filtered[\n",
    "    employment_df_filtered[\"Regional Council\"].isin(\n",
    "        ['Northland',\n",
    "        'Auckland',\n",
    "        'Waikato',\n",
    "        'Bay of Plenty',\n",
    "        'Taranaki / Manawatu - Whanganui',\n",
    "        'Gisborne / Hawke\\'s Bay',\n",
    "        'Wellington',\n",
    "        'Tasman / Nelson / Marlborough / West Coast',\n",
    "        'Canterbury',\n",
    "        'Otago / Southland',\n",
    "        'Total All Regional Councils']\n",
    "    )\n",
    "]"
   ],
   "id": "9f9951910833df95",
   "outputs": [],
   "execution_count": 60
  },
  {
   "metadata": {},
   "cell_type": "markdown",
   "source": "To match the larger list of regions, the police districts of Auckland and Counties/Manakau need to be merged into Auckland. This can be done easily as the data is still in long format.",
   "id": "d302f951f0cb1a95"
  },
  {
   "metadata": {
    "ExecuteTime": {
     "end_time": "2025-08-25T06:01:03.524981Z",
     "start_time": "2025-08-25T06:01:02.326954Z"
    }
   },
   "cell_type": "code",
   "source": [
    "police_df_combined = police_df_raw.copy()\n",
    "\n",
    "police_df_combined['Police Distict Merged'] = (police_df_combined[\"Police District\"]\n",
    "                             .replace('Auckland City', 'Auckland')\n",
    "                             .replace('Counties/Manukau', 'Auckland')\n",
    "                             .replace('Waitemata', 'Auckland'))"
   ],
   "id": "bf977c8358f141a5",
   "outputs": [],
   "execution_count": 65
  },
  {
   "metadata": {
    "ExecuteTime": {
     "end_time": "2025-08-25T06:10:13.018681Z",
     "start_time": "2025-08-25T06:10:13.010527Z"
    }
   },
   "cell_type": "code",
   "source": [
    "employment_df_filtered[\"Regional Council\"] = (\n",
    "    employment_df_filtered[\"Regional Council\"]\n",
    "        .replace({\n",
    "            'Bay of Plenty': 'Bay of Plenty',\n",
    "            \"Gisborne / Hawke's Bay\": 'Eastern',\n",
    "            'Taranaki / Manawatu - Whanganui': 'Central',\n",
    "            'Tasman / Nelson / Marlborough / West Coast': 'Tasman',\n",
    "            'Otago / Southland': 'Southern'\n",
    "        })\n",
    ")"
   ],
   "id": "1c4558792ebdd0f8",
   "outputs": [],
   "execution_count": 71
  },
  {
   "metadata": {
    "ExecuteTime": {
     "end_time": "2025-08-25T06:10:13.960308Z",
     "start_time": "2025-08-25T06:10:13.951002Z"
    }
   },
   "cell_type": "code",
   "source": "employment_df_filtered['Regional Council'].unique()",
   "id": "6b28fcd9cfebb0ab",
   "outputs": [
    {
     "data": {
      "text/plain": [
       "array(['Northland', 'Auckland', 'Waikato', 'Bay of Plenty', 'Eastern',\n",
       "       'Central', 'Wellington', 'Tasman', 'Canterbury', 'Southern',\n",
       "       'Total All Regional Councils'], dtype=object)"
      ]
     },
     "execution_count": 72,
     "metadata": {},
     "output_type": "execute_result"
    }
   ],
   "execution_count": 72
  },
  {
   "metadata": {
    "ExecuteTime": {
     "end_time": "2025-08-25T06:10:17.366116Z",
     "start_time": "2025-08-25T06:10:17.299579Z"
    }
   },
   "cell_type": "code",
   "source": "police_df_combined['Police Distict Merged'].unique()",
   "id": "fc3216aa5204bf3",
   "outputs": [
    {
     "data": {
      "text/plain": [
       "array(['Auckland', 'Bay Of Plenty', 'Canterbury', 'Central', 'Eastern',\n",
       "       'Northland', 'Southern', 'Waikato', 'Wellington', 'Tasman',\n",
       "       'Not Specified'], dtype=object)"
      ]
     },
     "execution_count": 73,
     "metadata": {},
     "output_type": "execute_result"
    }
   ],
   "execution_count": 73
  },
  {
   "metadata": {},
   "cell_type": "code",
   "outputs": [],
   "execution_count": null,
   "source": "# TODO: bay of plenty capitalisation?",
   "id": "f12bad797a020aa0"
  }
 ],
 "metadata": {
  "kernelspec": {
   "name": "python3",
   "language": "python",
   "display_name": "Python 3 (ipykernel)"
  }
 },
 "nbformat": 5,
 "nbformat_minor": 9
}
