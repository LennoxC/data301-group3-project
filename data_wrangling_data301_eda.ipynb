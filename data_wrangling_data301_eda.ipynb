{
 "cells": [
  {
   "metadata": {},
   "cell_type": "markdown",
   "source": [
    "# DATA301 Group 3 EDA - Data Wrangling\n",
    "\n",
    "Usage: you can run this notebook yourself for reproducibility. This is how the directory is organised:\n",
    "\n",
    "```\n",
    "~\n",
    "  /data\n",
    "      - employment_df.csv # this is the employment dataset from stats nz\n",
    "      - police_df.csv # this is the police dataset from nz police\n",
    "  /output\n",
    "      # output dataset will be in this folder\n",
    "  data_wrangling_data301_eda.ipynb\n",
    "```\n",
    "\n",
    "The output of this notebook is a .csv file: `/output/police_dataset_clean.csv`\n",
    "\n",
    "### The police dataset\n",
    "\n",
    "The police dataset contains detailed anonymized information about crime victimisations from 2014 to 2025.\n",
    "\n",
    "This can be accessed here: https://public.tableau.com/app/profile/policedata.nz/viz/VictimisationsPoliceStations/Summary\n",
    "\n",
    "A full download of the dataset can be attained by navigating to the 'Districts' tab, and clicking the download icon in the top right corner. Select 'Data', then in the pop-up window, on the left hand tab, select 'Full Data'. Then choose 'Show Fields' on the right hand side and select all fields for the download. Download the dataset using the download button.\n",
    "\n",
    "To run this notebook, create a directory named `data` in the same directory as this notebook. Place the police dataset in this folder, and rename to police_df.csv. If you are unable to modify the name of the file, you can provide a file name in the first python cell.\n",
    "\n",
    "### The employment dataset\n",
    "\n",
    "The employment dataset comes from the Stats NZ Household Labour Force Survey. This is a quarterly survey to produce official estimates of the numbers of employed and unemployed people.\n",
    "\n",
    "This can be accessed here: https://www.stats.govt.nz/assets/Reports/Household-labour-force-survey-population-rebase-from-2023-estimated-resident-population/Download-data/household-labour-force-survey-population-rebase-September-2018-March-2025-quarters.zip\n",
    "\n",
    "This will download as a zip folder, which should only contain the household labour force survey. Extract the zip folder, and copy the .csv file into the `~/data` directory. Rename this file as `employment_df.csv`.\n",
    "\n",
    "### Python Environment\n",
    "All python requirements are included in the `requirements.txt` folder.\n"
   ],
   "id": "99af5df4cff83136"
  },
  {
   "metadata": {
    "ExecuteTime": {
     "end_time": "2025-08-25T04:31:58.509534Z",
     "start_time": "2025-08-25T04:31:58.504341Z"
    }
   },
   "cell_type": "code",
   "source": [
    "import pandas as pd\n",
    "import numpy as np\n",
    "import os\n",
    "import matplotlib.pyplot as plt"
   ],
   "id": "6357e62f1a02a30c",
   "outputs": [],
   "execution_count": 2
  },
  {
   "metadata": {},
   "cell_type": "code",
   "outputs": [],
   "execution_count": null,
   "source": "",
   "id": "feb13fe2be7ab75c"
  }
 ],
 "metadata": {
  "kernelspec": {
   "name": "python3",
   "language": "python",
   "display_name": "Python 3 (ipykernel)"
  }
 },
 "nbformat": 5,
 "nbformat_minor": 9
}
